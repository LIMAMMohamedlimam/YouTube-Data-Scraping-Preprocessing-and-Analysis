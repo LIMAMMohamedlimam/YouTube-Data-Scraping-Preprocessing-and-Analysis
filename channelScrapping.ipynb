{
 "cells": [
  {
   "cell_type": "code",
   "execution_count": 24,
   "metadata": {},
   "outputs": [],
   "source": [
    "import time as tm\n",
    "from selenium import webdriver \n",
    "from bs4 import BeautifulSoup \n",
    "import xlsxwriter as xlwr \n",
    "from selenium.webdriver.chrome.options import Options\n",
    "import datetime as dt"
   ]
  },
  {
   "cell_type": "code",
   "execution_count": 55,
   "metadata": {},
   "outputs": [],
   "source": [
    "# provide the url of the channel whose data you want to fetch \n",
    "urls = [ \n",
    "\t    'https://www.youtube.com/@MrBeast/videos'\n",
    "]\n"
   ]
  },
  {
   "cell_type": "code",
   "execution_count": 56,
   "metadata": {},
   "outputs": [
    {
     "name": "stdout",
     "output_type": "stream",
     "text": [
      "https://www.youtube.com/@MrBeast/videos\n"
     ]
    }
   ],
   "source": [
    "times = 0\n",
    "driver = webdriver.Chrome() \n",
    "for url in urls:\n",
    "    print(url) \n",
    "    driver.get('{}/videos?view=0&sort=p&flow=grid'.format(url)) \n",
    "    while times < 10: \n",
    "        tm.sleep(1)    \n",
    "        driver.execute_script( \n",
    "            \"window.scrollTo(0, document.documentElement.scrollHeight);\") \n",
    "        times += 1\n",
    "    content = driver.page_source.encode('utf-8').strip() \n",
    "    soup = BeautifulSoup(content, 'lxml')"
   ]
  },
  {
   "cell_type": "code",
   "execution_count": null,
   "metadata": {},
   "outputs": [],
   "source": [
    "print(soup)"
   ]
  },
  {
   "cell_type": "code",
   "execution_count": 57,
   "metadata": {},
   "outputs": [],
   "source": [
    "#Title \n",
    "titles = soup.findAll('yt-formatted-string', class_ = 'style-scope ytd-rich-grid-media') \n",
    "t =[] \n",
    "for i in range(len(titles)): \n",
    "    if i%2 == 0:\n",
    "        t.append(titles[i].text) \n",
    "    else:\n",
    "        continue\n",
    "  \n",
    "#Views \n",
    "views = soup.findAll('span', class_=\"inline-metadata-item style-scope ytd-video-meta-block\") \n",
    "v = [] \n",
    "count = 0\n",
    "for i in range(len(views)): \n",
    "    if i%2 == 0: \n",
    "        v.append(views[i].text) \n",
    "    else: \n",
    "        continue\n",
    "  \n",
    "#Duration \n",
    "duration = soup.findAll( \n",
    "    'span', class_=\"style-scope ytd-thumbnail-overlay-time-status-renderer\") \n",
    "while len(duration) > len(titles):\n",
    "    duration.pop()\n",
    "\n",
    "d = [] \n",
    "for i in range(len(duration)): \n",
    "    if i%2 == 0 :\n",
    "        d.append(str(duration[i].text[5:9])) \n",
    "\n"
   ]
  },
  {
   "cell_type": "code",
   "execution_count": 58,
   "metadata": {},
   "outputs": [
    {
     "name": "stdout",
     "output_type": "stream",
     "text": [
      "540 540 540\n",
      "['$1 vs $250,000,000 Private Island!', 'Protect $500,000 Keep It!', 'I Spent 7 Days In Solitary Confinement', 'I Rescued 100 Abandoned Dogs!', 'Survive 100 Days Trapped, Win $500,000', '$10,000 Every Day You Survive In A Grocery Store', '$1 vs $10,000,000 Job!', 'I Spent 7 Days Buried Alive', 'I Built 100 Wells In Africa', 'Worldâ€™s Deadliest Laser Maze!', '$1 vs $100,000,000 House!', \"World's Most Dangerous Trap!\", '$1 vs $100,000,000 Car!', \"Lamborghini Vs World's Largest Shredder\", 'Every Country On Earth Fights For $250,000!', '$1 vs $250,000 Vacation!', '7 Days Stranded At Sea', 'Train Vs Giant Pit', '$1 vs $1,000,000,000 Yacht!', 'Ages 1 - 100 Fight For $500,000', '1,000 Deaf People Hear For The First Time', '$1 vs $500,000 Plane Ticket!', 'I Paid A Real Assassin To Try To Kill Me', '1,000 Blind People See For The First Time', 'I Survived 50 Hours In Antarctica', 'Hydraulic Press Vs Lamborghini', '100 Kids Vs 100 Adults For $500,000', 'Last To Take Hand Off Jet, Keeps It!', '$1 vs $1,000,000 Hotel Room!', 'Survive 100 Days In Circle, Win $500,000', 'I Hunted 100 People!', 'I Survived A Plane Crash', 'I Gave My 100,000,000th Subscriber An Island', '100 Boys Vs 100 Girls For $500,000', 'I Didnâ€™t Eat Food For 30 Days', \"I Built Willy Wonka's Chocolate Factory!\", '$10,000 Every Day You Survive Prison', 'Would You Swim With Sharks For $100,000?', 'Worldâ€™s Most Dangerous Escape Room!', 'Extreme $1,000,000 Hide And Seek', '$1,000,000 Influencer Tournament!', 'I Got Hunted By The Military', '$456,000 Squid Game In Real Life!', 'I Cleaned The Worldâ€™s Dirtiest Beach #TeamSeas', 'Last To Take Hand Off Lamborghini, Keeps It', 'First To Rob Bank Wins $100,000', 'Extreme $500,000 Game Of Tag!', 'Last To Leave Circle Wins $500,000', 'I Got Hunted By The FBI', 'If You Can Carry $1,000,000 You Keep It!', 'Would YOU Quit School For $100,000?', 'I Survived 50 Hours In A Maximum Security Prison', 'Hit The Target, Win $300,000', 'Anything You Can Fit In The Triangle Iâ€™ll Pay For', 'I Got Hunted By A Real Bounty Hunter', 'Extreme $100,000 Game of Tag!', 'Would You Sit In Snakes For $10,000?', \"I Bought The World's Largest Mystery Box! ($500,000)\", 'I Spent 50 Hours Buried Alive', 'Offering People $100,000 To Quit Their Job', 'I Sold My House For $1', 'I Donated $300,000 To People In Need', 'I Ate $100,000 Golden Ice Cream', 'I Bought Everything In 5 Stores', \"Youtube Rewind 2020, Thank God It's Over\", 'I Put 1,000,000,000 Christmas Lights On A House (World Record)', 'I Opened A Restaurant That Pays You To Eat At It', 'I Gave People $1,000,000 But ONLY 1 Minute To Spend It!', 'Steal This $100,000 Diamond, You Keep It', 'Press This Button To Win $100,000!', 'I Survived 24 Hours Straight In Ice', 'I Uberâ€™d People And Let Them Keep The Car', 'I Filled My Brotherâ€™s House With Slime & Bought Him A New One', 'Hi Me In 5 Years', 'Would You Rather Have A Giant Diamond or $100,000?', 'I Gave My 40,000,000th Subscriber 40 Cars', 'Why I Havenâ€™t Been Uploading', 'Get This Random Person 1,000,000 Subscribers', 'Would YOU Rather Have A Lamborghini or This House?', 'Last To Leave $800,000 Island Keeps It', 'I Bought A Private Island', 'I Spent $1,000,000 On Lottery Tickets and WON', 'I Ate The Worldâ€™s Largest Slice Of Pizza', 'I Adopted EVERY Dog In A Dog Shelter', \"I Bought The World's Largest Firework ($600,000)\", 'I Broke Into A House', 'Would You Rather Have $100,000 OR This Mystery Key?', \"I Built The World's Largest Lego Tower\", 'I Spent 50 Hours In Solitary Confinement', \"If You Click This Video I'll Give My Friend .001$\", 'I Gave $200,000 To People Who Lost Their Jobs (Corona Virus)', 'Videos I Could Not Upload...', 'I Spent 24 Hours In A Doomsday Bunker', 'Giving $1,000,000 Of Food To People In Need', \"I Ran A Marathon In The World's Largest Shoes\", '$70,000 Extreme Hide And Seek - Challenge', 'Anything You Can Fit In The Circle Iâ€™ll Pay For', 'I Ate A $70,000 Golden Pizza', 'Lamborghini Race, Winner Keeps Lamborghini', 'I Gave My Credit Card To Random People', 'I Went Back To Boy Scouts For A Day', '$60,000 Extreme Hide And Seek - Challenge', 'How I Gained 15,000,000 Subscribers In 1 Year', 'Important Youtube Announcement (please watch)', 'Giving 10,000 Presents To Kids For Christmas', 'Spending $1,000,000 In 24 Hours', 'Last To Take Hand Off $1,000,000 Keeps It', 'Last To Stop Riding Bike Wins $1,000,000 (Part 4)', 'Last To Leave Toilet Wins $1,000,000 (Part 3)', 'I Ordered Pizza And Tipped The House', 'Last to Stop Swinging Wins $1,000,000 (Part 2)', '$50,000 Game Of Extreme Hide And Seek - Challenge', 'I Opened A FREE BANK', 'Going Around A Ferris Wheel 1,000 Times Straight', 'Last To Fall Wins $1,000,000 (Part 1)', 'Surviving 24 Hours Straight In The Bermuda Triangle', 'I Spent $100,000 On Lottery Tickets And Won!', 'Planting 20,000,000 Trees, My Biggest Project Ever!', 'Last To Take Hand Off Boat, Keeps It', \"I Searched 100 Dumpsters, Here's What I Found\", 'Going Through The Same Drive Thru 1,000 Times', 'Donating $100,000 To Random Streamers', 'Surviving 24 Hours Straight In A Rain Forest', 'Last To Leave Ramen Noodle Pool Wins $20,000', \"Anything You Can Carry, I'll Pay For #2\", 'I Gave My Brother 24 Hours To Spend $100,000', 'I Opened A Free Car Dealership', 'Last To Leave Pool Of $20,000 Keeps It', 'Surviving 24 Hours On A Deserted Island', 'Last To Leave Roller Coaster Wins $20,000 - Challenge', 'I Won Every Prize At A Theme Park', \"Destroying My Friend's Car And Surprising Him With A New One\", 'I Spent 24 Hours Straight At Area 51', 'Can 50,000 Magnets Catch A Cannon Ball?', \"World's Largest Game Of Dodgeball\", 'Last To Leave Revolving Door Wins $50,000', 'Tipping Waitresses With Real Gold Bars', \"I Opened The World's First FREE Store\", 'Spending 24 Hours On Top Of A Mountain', 'Last To Leave VR Wins $20,000', 'Last To Stop Running Wins $20,000', 'Paying People $10,000 To Eat Ghost Pepper', '24 Hours In The Most Haunted Place On Earth', 'I Bought Everything In A Store - Challenge', \"World's Largest Bowl Of Cereal\", 'Spending 24 Hours In A City With No Laws', 'Giving $10,000 To Random People And Saying Nothing', 'Molten Lava Vs Giant Ice Block Experiment', \"Anything You Can Carry, I'll Pay For Challenge\", 'Homeless Man Buys A Lamborghini', 'Playing Battleship With Real Ships', 'Donating $100,000 To Shroud In Real Life', 'Last To Leave The Tesla, Keeps It Challenge', 'Donating $100,000 To Streamers With 0 Viewers', 'Surviving 24 Hours Straight In A Desert', '$200,000 Youtuber Battle Royale', 'Surprising Strangers With 100 Zombies - Experiment', 'I Gave A Homeless Man A Home', 'Standing Still For 24 Hours Straight - Statue Challenge', 'Giant Monopoly Game With Real Money', 'I Spent 24 Hours Straight In Insane Asylum', 'I Advertised Pewdiepie At The Super Bowl', 'I Went Back To 1st Grade For A Day', 'I Opened The Worldâ€™s Cheapest Store', \"I Put 10 Million Legos in Friend's House\", 'Make This Video The Most Liked Video On Youtube', '20,000 Magnets Vs A Car', 'Eating A $10,000 Golden Steak (24k Gold)', 'Last To Take Hand Off House Keeps It!', 'I Gave Him One Hour To Spend $100,000!', 'How I Gave Away $1,000,000', 'Giving $100,000 To A Homeless Person', 'I Spent 24 Hours Straight In Prison - Challenge', 'Donating $10000 To Pewdiepie', 'Last Youtuber To Leave Wins $100,000 - Challenge', 'I Put Millions Of Pennies In My Friends Backyard', 'Surprising TFue With A Fortnite Battle Bus In Real Life', 'I Built A Giant House Using Only Legos', 'Last To Leave Slime Pit Wins $20,000 - Challenge', 'Saying Pewdiepie 100,000 Times', \"Destroyed Friend's House And Bought Him A New One\", \"I Put 100 Million Orbeez In My Friend's Backyard\", 'Spending $40,000 In One Hour Challenge', 'Giving My 10,000,000th Subscriber 10,000,000 ___', '$10,000 Games Of Rock Paper Scissors', 'Last To Remove Hand, Gets Lamborghini Challenge', 'You Pick The Right Cup, You Win $100,000!', 'I Bought Every Billboard In My City For This', 'Ordering Water Then Tipping $30,000', 'I Spent $50,000 On Lottery Tickets And Won ____', 'Last To Leave Circle Wins $10,000 - Challenge', 'I Spent 24 Hours Straight In Slime', 'Surprising Tfue With $10,000 Live - Fortnite', 'I Spent $30,000 On Lottery Tickets And Won ____', 'Flat Earth PROVEN By Independent Research', \"Things That SHOULDN'T Be Sold On Amazon\", 'Surprising My 8,000,000th Subscriber With 8,000,000 ___', 'I Donated $25,000 To Random Kids Streaming Fortnite', 'I Hope This Magic Trick Works', 'Can A Glowing 1000 Degree Sword Slice A Car In Half?', 'Rocket League In Real Life!', \"Destroying My Friend's Car And Surprising Him With A New One - Slime\", 'Spending 24 Hours Straight Under Water Challenge', 'Attempting The Impossible Maze - $10,000 Challenge', 'Donating $100,000 To A Random Fortnite Streamer', 'Moving 10 Pounds Using ONLY Sound', 'Returning Destroyed Rental Cars Prank', 'I Gave My 6,000,000th Subscriber 6,000,000 ____', 'Can 1,000 Fans At Max Speed Push A Car?', 'I Donated $50,000 To Ninja - Fortnite', 'I Ubered Random People In A Tank', \"World's Hottest Substance Vs Coldest Substance\", 'The Real Way Dinosaurs Went Extinct', 'I Donated $1000 Every Time She Blinked - Fortnite Streamers', 'I Built A Working Car Using Only LEGOS', 'Do Water Repellent Shoes Actually Work?', \"We Drove 3,000 Miles For The World's Best Burger\", 'I Gave My 5,000,000th Subscriber 5,000,000 ______', 'I Made Money Grow On Trees', 'I Took Apart My Friends Car And Put It In His Room', 'How Many Rubber Bands Does It Take To Snap A Safe?', 'Pulling Cars Over Using A Toy Police Car', 'I Gave $500,000 To Random People', 'How Many Toy Cars Does It Take To Pull A Real Car?', 'I Gave $20,000 To People From An Ice Cream Truck', '$10000 Ice Sculpture Vs Flame', 'Can 1,000 Rolls Of Duct Tape Stop A Car??', 'Winning A Game Of Fortnite In The Middle Of The Ocean', 'I Flew Using Only Balloons AND Leaf Blowers', 'I Donated $40,000 To A Random Twitch Fortnite Streamer (world record)', \"Destroying My Friend's Car And Surprising Him With A New One\", 'Walking Up To Random People With 100 StormTroopers', 'I Donated $10,000 If They Said This Word (Twitch Streamers)', 'Giving My 4,000,000th Subscriber 4,000,000 Cookies', 'I Tipped Waitresses $20,000', 'Walking Into Random Stores With 100 Dinosaurs', 'I Built A Mansion Using Only Cardboard Boxes', 'Breaking Glass Using Only Megaphones', 'Tying My Shoes In Every State (World Record)', 'I Dropped $20,000 From A Drone', 'Donating $10,000 To Fortnite Streamers If They Win', 'Trying To Fly Using Only Leaf Blowers', 'Giving 3,000,000 Pennies To My 3,000,000th Subscriber', 'I Donated $30,000 To My Favorite Twitch Streamer (ninja)', 'I Gave $20,000 To Random Homeless People', 'I Bought An Expensive Car Using Only $1 Bills', \"I Bought The World's Most Expensive Apps ($10k)\", 'We Delivered 100 Pizzas To Random Houses', 'I Donated $30,000 To A Random Twitch Streamer (world record)', 'I Bought A Car Using Only Pennies', 'I Bought One Snickers Bar From Every Walmart', 'Donating Big Donations To Twitch Streamers!!!', \"I Can't Believe I Found This Stuff On Amazon..\", 'Saying \"Keep Net Neutrality\" For 10 Hours', 'Life Hacks You Need To Know', 'Can 100,000 Pieces Of Paper Stop A Bullet?', 'Giving My Mom $100,000 (Proudest Day Of My Life)', '2,256 Miles In One Uber Ride (World Record)', \"i'm really sorry\", 'Hi Me In Two Years (Made Two Years Ago)', 'Tipping Uber Drivers $10,000', 'Going To The Connor McGregor fight!', 'Tipping Pizza Delivery Guys $10,000', 'Microwaving my iPhone, what happens next might shock you..', 'Saying Logan Paul 100,000 Times', 'Donating $10,000 To Random Twitch Streamers', 'Breaking The Law', 'Giving Homeless People $1,000 (Not Clickbait)', 'We Are Better Than Dude Perfect', \"Every Challenge I've Ever Done\"]\n",
      "270 270 270\n",
      "['16:5', '15:3', '20:1', '15:0', '27:0', '21:3', '15:3', '18:4', '10:3', '25:5', '17:3', '19:4', '16:2', '14:5', '18:4', '16:0', '18:0', '10:3', '14:4', '25:3', '6:14', '12:2', '12:1', '8:01', '12:1', '10:2', '15:2', '15:3', '15:4', '17:1', '12:0', '8:14', '15:3', '16:5', '13:0', '16:1', '13:5', '9:01', '8:01', '12:0', '12:0', '10:2', '25:4', '4:55', '15:0', '8:02', '12:3', '17:4', '15:5', '10:4', '10:1', '12:3', '13:1', '16:0', '13:2', '16:5', '14:0', '10:5', '12:4', '10:2', '9:20', '10:5', '13:1', '14:1', '6:31', '11:2', '9:32', '14:1', '14:0', '15:1', '11:3', '14:1', '9:25', '2:08', '12:2', '17:1', '6:22', '14:0', '18:2', '21:1', '11:3', '10:1', '8:03', '16:0', '11:0', '14:0', '18:2', '13:5', '15:5', '17:2', '15:1', '13:3', '11:5', '12:2', '13:4', '17:2', '20:0', '12:5', '14:4', '16:4', '13:3', '17:5', '6:34', '2:35', '13:4', '15:1', '15:2', '11:4', '15:4', '13:0', '13:0', '13:4', '10:5', '12:5', '16:5', '11:4', '15:1', '7:23', '16:4', '17:0', '15:3', '14:4', '13:0', '14:3', '13:5', '13:0', '16:3', '16:3', '13:5', '15:1', '13:2', '14:5', '15:1', '9:29', '11:1', '13:4', '12:0', '14:5', '15:2', '14:1', '14:5', '14:4', '15:0', '16:5', '15:4', '14:2', '15:5', '7:38', '15:0', '14:2', '15:3', '14:1', '18:2', '14:3', '14:0', '13:3', '9:49', '13:2', '18:1', '15:4', '15:5', '12:4', '17:4', '15:1', '15:1', '13:1', '12:0', '16:3', '17:3', '13:5', '15:1', '14:4', '14:5', '15:1', '24:3', '14:4', '14:2', '13:4', '18:0', '11:4', '14:3', '14:4', '14:0', '18:1', '13:0', '19:4', '17:3', '15:3', '11:4', '16:5', '16:3', '14:3', '15:2', '17:3', '11:5', '14:0', '18:5', '17:3', '16:2', '10:1', '12:5', '16:1', '15:1', '19:4', '23:0', '13:4', '10:3', '18:3', '12:2', '22:0', '10:0', '11:5', '5:51', '15:4', '12:2', '11:3', '15:2', '11:3', '10:3', '12:1', '10:1', '13:3', '15:0', '11:4', '13:4', '15:0', '10:2', '10:1', '11:1', '24:4', '15:1', '10:0', '13:0', '10:4', '12:2', '10:1', '7:10', '9:12', '15:1', '11:4', '16:0', '13:1', '10:1', '11:1', '10:5', '10:2', '10:4', '10:0', '18:2', '12:0', '10:2', '19:2', '8:21', '10:0', '10:0', '12:3', '12:2', '10:1', '3:27', '1:50', '12:3', '5:42', '12:4', '6:06', '17:0', '16:1', '3:57', '8:47', '2:37', '23:4']\n"
     ]
    }
   ],
   "source": [
    "#print(soup)\n",
    "#print(t , v ,d )\n",
    "#print(titles )\n",
    "print(len(titles) , len(views) , len(duration))\n",
    "##print(duration)\n",
    "#print(len(d))\n",
    "print(t)\n",
    "print(len(t) , len(v) , len(d))\n",
    "print(d)\n",
    "for i in range(len(v)):\n",
    "  if type(v[i]) != str :\n",
    "    print(\"hello\")\n",
    "#print(v)\n",
    "#print(len(t) , len(v))\n",
    "#print(v)\n",
    "#print(len(titles) , len(views))\n",
    "#for i in range (len(titles)) :\n",
    "#  print(t[i] , v[i]) \n",
    "  \n"
   ]
  },
  {
   "cell_type": "code",
   "execution_count": 59,
   "metadata": {},
   "outputs": [],
   "source": [
    "workbook = xlwr.Workbook('Mrbeast_data.xlsx') \n",
    "worksheet = workbook.add_worksheet() \n",
    "\n",
    "worksheet.write(0, 0, \"Title\") \n",
    "worksheet.write(0, 1, \"Views\") \n",
    "worksheet.write(0, 2, \"Duration\") \n",
    "\n",
    "row = []\n",
    "row = 1\n",
    "for title, view, dura in zip(t,v,d): \n",
    "\tworksheet.write(row, 0, title) \n",
    "\tworksheet.write(row, 1, view) \n",
    "\tworksheet.write(row, 2, dura) \n",
    "\trow += 1\n",
    "\n",
    "workbook.close()\n"
   ]
  }
 ],
 "metadata": {
  "kernelspec": {
   "display_name": "Python 3",
   "language": "python",
   "name": "python3"
  },
  "language_info": {
   "codemirror_mode": {
    "name": "ipython",
    "version": 3
   },
   "file_extension": ".py",
   "mimetype": "text/x-python",
   "name": "python",
   "nbconvert_exporter": "python",
   "pygments_lexer": "ipython3",
   "version": "3.10.12"
  }
 },
 "nbformat": 4,
 "nbformat_minor": 2
}
